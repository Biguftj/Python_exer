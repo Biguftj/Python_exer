{
 "cells": [
  {
   "cell_type": "markdown",
   "id": "2b04dd95-2ffb-4fa1-b4b2-091647abb161",
   "metadata": {},
   "source": [
    "# 3.15.x Final Assignment"
   ]
  },
  {
   "cell_type": "markdown",
   "id": "5a968c9c-628b-42c6-b692-d88b2a1866f4",
   "metadata": {},
   "source": [
    "### Assignment Instructions"
   ]
  },
  {
   "cell_type": "markdown",
   "id": "8ba6a2d5-87be-4662-a940-6e9b347a5ae2",
   "metadata": {},
   "source": [
    "#### Part 1   |   Standard Difficulty Level\n",
    "\n",
    "In this first part, you will be working with a datasets containing information of over 20k Software Professionals with different variables like: \n",
    "\n",
    "- the `Rating` of the company given by the employee,\n",
    "- the `Company Name`, \n",
    "- the `Job Title` of the employee, \n",
    "- the employee `Salary` (in Indian Rupee ₹), \n",
    "- the number of `Salaries Reported`, \n",
    "- the `Location` of the company, \n",
    "- the `Employment Status` and\n",
    "- the category of the `Job Roles` \n",
    "\n",
    "The dataset name is `Software Professionals Salary.csv` and you will find it in the `data` folder of this repository. At [this link](https://www.kaggle.com/datasets/iamsouravbanerjee/software-professional-salaries-2022?search=salary) you can find the source of the data (Kaggle) as well as more information on its composition. "
   ]
  },
  {
   "cell_type": "markdown",
   "id": "cd468a65-2fe5-4427-86f5-33dd7d73dc4d",
   "metadata": {},
   "source": [
    " "
   ]
  },
  {
   "cell_type": "markdown",
   "id": "0d3ea74d-55a1-4236-bd04-9777f1af69de",
   "metadata": {},
   "source": [
    "**Setup:** Import the necessary libraries and load the .csv file to a DataFrame named `sps`. Check that all columns have the correct data type. "
   ]
  },
  {
   "cell_type": "code",
   "execution_count": 2,
   "id": "40c3fbf2-54a3-440c-868f-d2509ca27aba",
   "metadata": {},
   "outputs": [
    {
     "data": {
      "text/html": [
       "<div>\n",
       "<style scoped>\n",
       "    .dataframe tbody tr th:only-of-type {\n",
       "        vertical-align: middle;\n",
       "    }\n",
       "\n",
       "    .dataframe tbody tr th {\n",
       "        vertical-align: top;\n",
       "    }\n",
       "\n",
       "    .dataframe thead th {\n",
       "        text-align: right;\n",
       "    }\n",
       "</style>\n",
       "<table border=\"1\" class=\"dataframe\">\n",
       "  <thead>\n",
       "    <tr style=\"text-align: right;\">\n",
       "      <th></th>\n",
       "      <th>Rating</th>\n",
       "      <th>Company Name</th>\n",
       "      <th>Job Title</th>\n",
       "      <th>Salary</th>\n",
       "      <th>Salaries Reported</th>\n",
       "      <th>Location</th>\n",
       "      <th>Employment Status</th>\n",
       "      <th>Job Roles</th>\n",
       "    </tr>\n",
       "  </thead>\n",
       "  <tbody>\n",
       "    <tr>\n",
       "      <th>0</th>\n",
       "      <td>3.8</td>\n",
       "      <td>Sasken</td>\n",
       "      <td>Android Developer</td>\n",
       "      <td>400000</td>\n",
       "      <td>3</td>\n",
       "      <td>Bangalore</td>\n",
       "      <td>Full Time</td>\n",
       "      <td>Android</td>\n",
       "    </tr>\n",
       "    <tr>\n",
       "      <th>1</th>\n",
       "      <td>4.5</td>\n",
       "      <td>Advanced Millennium Technologies</td>\n",
       "      <td>Android Developer</td>\n",
       "      <td>400000</td>\n",
       "      <td>3</td>\n",
       "      <td>Bangalore</td>\n",
       "      <td>Full Time</td>\n",
       "      <td>Android</td>\n",
       "    </tr>\n",
       "    <tr>\n",
       "      <th>2</th>\n",
       "      <td>4.0</td>\n",
       "      <td>Unacademy</td>\n",
       "      <td>Android Developer</td>\n",
       "      <td>1000000</td>\n",
       "      <td>3</td>\n",
       "      <td>Bangalore</td>\n",
       "      <td>Full Time</td>\n",
       "      <td>Android</td>\n",
       "    </tr>\n",
       "    <tr>\n",
       "      <th>3</th>\n",
       "      <td>3.8</td>\n",
       "      <td>SnapBizz Cloudtech</td>\n",
       "      <td>Android Developer</td>\n",
       "      <td>300000</td>\n",
       "      <td>3</td>\n",
       "      <td>Bangalore</td>\n",
       "      <td>Full Time</td>\n",
       "      <td>Android</td>\n",
       "    </tr>\n",
       "    <tr>\n",
       "      <th>4</th>\n",
       "      <td>4.4</td>\n",
       "      <td>Appoids Tech Solutions</td>\n",
       "      <td>Android Developer</td>\n",
       "      <td>600000</td>\n",
       "      <td>3</td>\n",
       "      <td>Bangalore</td>\n",
       "      <td>Full Time</td>\n",
       "      <td>Android</td>\n",
       "    </tr>\n",
       "    <tr>\n",
       "      <th>...</th>\n",
       "      <td>...</td>\n",
       "      <td>...</td>\n",
       "      <td>...</td>\n",
       "      <td>...</td>\n",
       "      <td>...</td>\n",
       "      <td>...</td>\n",
       "      <td>...</td>\n",
       "      <td>...</td>\n",
       "    </tr>\n",
       "    <tr>\n",
       "      <th>22765</th>\n",
       "      <td>4.7</td>\n",
       "      <td>Expert Solutions</td>\n",
       "      <td>Web Developer</td>\n",
       "      <td>200000</td>\n",
       "      <td>1</td>\n",
       "      <td>Bangalore</td>\n",
       "      <td>Full Time</td>\n",
       "      <td>Web</td>\n",
       "    </tr>\n",
       "    <tr>\n",
       "      <th>22766</th>\n",
       "      <td>4.0</td>\n",
       "      <td>Nextgen Innovation Labs</td>\n",
       "      <td>Web Developer</td>\n",
       "      <td>300000</td>\n",
       "      <td>1</td>\n",
       "      <td>Bangalore</td>\n",
       "      <td>Full Time</td>\n",
       "      <td>Web</td>\n",
       "    </tr>\n",
       "    <tr>\n",
       "      <th>22767</th>\n",
       "      <td>4.1</td>\n",
       "      <td>Fresher</td>\n",
       "      <td>Full Stack Web Developer</td>\n",
       "      <td>192000</td>\n",
       "      <td>13</td>\n",
       "      <td>Bangalore</td>\n",
       "      <td>Full Time</td>\n",
       "      <td>Web</td>\n",
       "    </tr>\n",
       "    <tr>\n",
       "      <th>22768</th>\n",
       "      <td>4.1</td>\n",
       "      <td>Accenture</td>\n",
       "      <td>Full Stack Web Developer</td>\n",
       "      <td>300000</td>\n",
       "      <td>7</td>\n",
       "      <td>Bangalore</td>\n",
       "      <td>Full Time</td>\n",
       "      <td>Web</td>\n",
       "    </tr>\n",
       "    <tr>\n",
       "      <th>22769</th>\n",
       "      <td>3.8</td>\n",
       "      <td>Thomson Reuters</td>\n",
       "      <td>Associate Web Developer</td>\n",
       "      <td>300000</td>\n",
       "      <td>7</td>\n",
       "      <td>Bangalore</td>\n",
       "      <td>Full Time</td>\n",
       "      <td>Web</td>\n",
       "    </tr>\n",
       "  </tbody>\n",
       "</table>\n",
       "<p>22770 rows × 8 columns</p>\n",
       "</div>"
      ],
      "text/plain": [
       "       Rating                      Company Name                 Job Title  \\\n",
       "0         3.8                            Sasken         Android Developer   \n",
       "1         4.5  Advanced Millennium Technologies         Android Developer   \n",
       "2         4.0                         Unacademy         Android Developer   \n",
       "3         3.8                SnapBizz Cloudtech         Android Developer   \n",
       "4         4.4            Appoids Tech Solutions         Android Developer   \n",
       "...       ...                               ...                       ...   \n",
       "22765     4.7                  Expert Solutions             Web Developer   \n",
       "22766     4.0           Nextgen Innovation Labs             Web Developer   \n",
       "22767     4.1                           Fresher  Full Stack Web Developer   \n",
       "22768     4.1                         Accenture  Full Stack Web Developer   \n",
       "22769     3.8                   Thomson Reuters   Associate Web Developer   \n",
       "\n",
       "        Salary  Salaries Reported   Location Employment Status Job Roles  \n",
       "0       400000                  3  Bangalore         Full Time   Android  \n",
       "1       400000                  3  Bangalore         Full Time   Android  \n",
       "2      1000000                  3  Bangalore         Full Time   Android  \n",
       "3       300000                  3  Bangalore         Full Time   Android  \n",
       "4       600000                  3  Bangalore         Full Time   Android  \n",
       "...        ...                ...        ...               ...       ...  \n",
       "22765   200000                  1  Bangalore         Full Time       Web  \n",
       "22766   300000                  1  Bangalore         Full Time       Web  \n",
       "22767   192000                 13  Bangalore         Full Time       Web  \n",
       "22768   300000                  7  Bangalore         Full Time       Web  \n",
       "22769   300000                  7  Bangalore         Full Time       Web  \n",
       "\n",
       "[22770 rows x 8 columns]"
      ]
     },
     "execution_count": 2,
     "metadata": {},
     "output_type": "execute_result"
    }
   ],
   "source": [
    "import pandas as pd\n",
    "import seaborn as sns\n",
    "sps = pd.read_csv(\"data/Software Professionals Salary.csv\")\n",
    "sps"
   ]
  },
  {
   "cell_type": "markdown",
   "id": "d7e527a1-5129-4008-8db5-6b196be6a7cd",
   "metadata": {},
   "source": [
    "1. What is the shape (rows, cols) of the `sps` DataFrame? "
   ]
  },
  {
   "cell_type": "code",
   "execution_count": 3,
   "id": "fd0690a5-11a2-44eb-b501-b92914e30832",
   "metadata": {},
   "outputs": [
    {
     "name": "stdout",
     "output_type": "stream",
     "text": [
      "<class 'pandas.core.frame.DataFrame'>\n",
      "RangeIndex: 22770 entries, 0 to 22769\n",
      "Data columns (total 8 columns):\n",
      " #   Column             Non-Null Count  Dtype  \n",
      "---  ------             --------------  -----  \n",
      " 0   Rating             22770 non-null  float64\n",
      " 1   Company Name       22770 non-null  object \n",
      " 2   Job Title          22770 non-null  object \n",
      " 3   Salary             22770 non-null  int64  \n",
      " 4   Salaries Reported  22770 non-null  int64  \n",
      " 5   Location           22770 non-null  object \n",
      " 6   Employment Status  22770 non-null  object \n",
      " 7   Job Roles          22770 non-null  object \n",
      "dtypes: float64(1), int64(2), object(5)\n",
      "memory usage: 1.4+ MB\n"
     ]
    }
   ],
   "source": [
    "sps.info()"
   ]
  },
  {
   "cell_type": "markdown",
   "id": "a80bd554-b444-4335-9841-1c46374abf60",
   "metadata": {},
   "source": [
    "2. How many unique `Job Roles` are there in the dataset? "
   ]
  },
  {
   "cell_type": "code",
   "execution_count": 4,
   "id": "c4f563b6-dfea-4fc7-8e1a-b33fdcec2454",
   "metadata": {},
   "outputs": [
    {
     "name": "stdout",
     "output_type": "stream",
     "text": [
      "11\n"
     ]
    }
   ],
   "source": [
    "print(sps['Job Roles'].nunique())"
   ]
  },
  {
   "cell_type": "markdown",
   "id": "3e37f0cb-a461-455c-8c86-3442d453e998",
   "metadata": {},
   "source": [
    "3. How many unique `Job Title` are there for the \"Python\" `Job Role`? "
   ]
  },
  {
   "cell_type": "code",
   "execution_count": 5,
   "id": "e5114fa9-4fee-4835-ba92-dafc05c06275",
   "metadata": {},
   "outputs": [
    {
     "data": {
      "text/plain": [
       "102"
      ]
     },
     "execution_count": 5,
     "metadata": {},
     "output_type": "execute_result"
    }
   ],
   "source": [
    "sps.loc[sps['Job Roles'] == \"Python\", 'Job Title'].nunique()"
   ]
  },
  {
   "cell_type": "markdown",
   "id": "a17fcd33-da70-4d95-b6ef-db5a5691924f",
   "metadata": {},
   "source": [
    "4. Of the `Company Name`s that are listed in the DataFrame, **how many** have a \"Python\" `Job Role` with a `Job Title` containing the **substring** \"Analyst\"?"
   ]
  },
  {
   "cell_type": "code",
   "execution_count": 6,
   "id": "5b9b9905-3e0c-48c3-a8c6-73cfe8a17c65",
   "metadata": {},
   "outputs": [
    {
     "data": {
      "text/html": [
       "<div>\n",
       "<style scoped>\n",
       "    .dataframe tbody tr th:only-of-type {\n",
       "        vertical-align: middle;\n",
       "    }\n",
       "\n",
       "    .dataframe tbody tr th {\n",
       "        vertical-align: top;\n",
       "    }\n",
       "\n",
       "    .dataframe thead th {\n",
       "        text-align: right;\n",
       "    }\n",
       "</style>\n",
       "<table border=\"1\" class=\"dataframe\">\n",
       "  <thead>\n",
       "    <tr style=\"text-align: right;\">\n",
       "      <th></th>\n",
       "      <th>Rating</th>\n",
       "      <th>Company Name</th>\n",
       "      <th>Job Title</th>\n",
       "      <th>Salary</th>\n",
       "      <th>Salaries Reported</th>\n",
       "      <th>Location</th>\n",
       "      <th>Employment Status</th>\n",
       "      <th>Job Roles</th>\n",
       "    </tr>\n",
       "  </thead>\n",
       "  <tbody>\n",
       "    <tr>\n",
       "      <th>10896</th>\n",
       "      <td>3.9</td>\n",
       "      <td>Tata Consultancy Services</td>\n",
       "      <td>Python Developer</td>\n",
       "      <td>200000</td>\n",
       "      <td>26</td>\n",
       "      <td>Bangalore</td>\n",
       "      <td>Full Time</td>\n",
       "      <td>Python</td>\n",
       "    </tr>\n",
       "    <tr>\n",
       "      <th>10897</th>\n",
       "      <td>3.8</td>\n",
       "      <td>Wipro</td>\n",
       "      <td>Python Developer</td>\n",
       "      <td>200000</td>\n",
       "      <td>10</td>\n",
       "      <td>Bangalore</td>\n",
       "      <td>Full Time</td>\n",
       "      <td>Python</td>\n",
       "    </tr>\n",
       "    <tr>\n",
       "      <th>10898</th>\n",
       "      <td>3.8</td>\n",
       "      <td>Capgemini</td>\n",
       "      <td>Python Developer</td>\n",
       "      <td>300000</td>\n",
       "      <td>9</td>\n",
       "      <td>Bangalore</td>\n",
       "      <td>Full Time</td>\n",
       "      <td>Python</td>\n",
       "    </tr>\n",
       "    <tr>\n",
       "      <th>10899</th>\n",
       "      <td>3.3</td>\n",
       "      <td>Infosys</td>\n",
       "      <td>Python Developer</td>\n",
       "      <td>200000</td>\n",
       "      <td>8</td>\n",
       "      <td>Bangalore</td>\n",
       "      <td>Full Time</td>\n",
       "      <td>Python</td>\n",
       "    </tr>\n",
       "    <tr>\n",
       "      <th>10900</th>\n",
       "      <td>4.1</td>\n",
       "      <td>Fresher</td>\n",
       "      <td>Python Developer</td>\n",
       "      <td>120000</td>\n",
       "      <td>7</td>\n",
       "      <td>Bangalore</td>\n",
       "      <td>Full Time</td>\n",
       "      <td>Python</td>\n",
       "    </tr>\n",
       "    <tr>\n",
       "      <th>...</th>\n",
       "      <td>...</td>\n",
       "      <td>...</td>\n",
       "      <td>...</td>\n",
       "      <td>...</td>\n",
       "      <td>...</td>\n",
       "      <td>...</td>\n",
       "      <td>...</td>\n",
       "      <td>...</td>\n",
       "    </tr>\n",
       "    <tr>\n",
       "      <th>11857</th>\n",
       "      <td>4.9</td>\n",
       "      <td>Datalysys</td>\n",
       "      <td>Python/Data Engineer</td>\n",
       "      <td>400000</td>\n",
       "      <td>1</td>\n",
       "      <td>Hyderabad</td>\n",
       "      <td>Full Time</td>\n",
       "      <td>Python</td>\n",
       "    </tr>\n",
       "    <tr>\n",
       "      <th>11858</th>\n",
       "      <td>4.1</td>\n",
       "      <td>Innvectra Info Solutions</td>\n",
       "      <td>Python Developer/Nodejs Developer</td>\n",
       "      <td>800000</td>\n",
       "      <td>1</td>\n",
       "      <td>Hyderabad</td>\n",
       "      <td>Full Time</td>\n",
       "      <td>Python</td>\n",
       "    </tr>\n",
       "    <tr>\n",
       "      <th>11859</th>\n",
       "      <td>3.3</td>\n",
       "      <td>PUJA DENTAL GROUP</td>\n",
       "      <td>C and Python Developer</td>\n",
       "      <td>216000</td>\n",
       "      <td>1</td>\n",
       "      <td>Hyderabad</td>\n",
       "      <td>Full Time</td>\n",
       "      <td>Python</td>\n",
       "    </tr>\n",
       "    <tr>\n",
       "      <th>11860</th>\n",
       "      <td>4.1</td>\n",
       "      <td>IBM</td>\n",
       "      <td>Python and Shell Scripting Developer</td>\n",
       "      <td>700000</td>\n",
       "      <td>1</td>\n",
       "      <td>Hyderabad</td>\n",
       "      <td>Full Time</td>\n",
       "      <td>Python</td>\n",
       "    </tr>\n",
       "    <tr>\n",
       "      <th>11862</th>\n",
       "      <td>4.4</td>\n",
       "      <td>Microsoft</td>\n",
       "      <td>Ethical Hacking and Python</td>\n",
       "      <td>936000</td>\n",
       "      <td>1</td>\n",
       "      <td>Hyderabad</td>\n",
       "      <td>Full Time</td>\n",
       "      <td>Python</td>\n",
       "    </tr>\n",
       "  </tbody>\n",
       "</table>\n",
       "<p>947 rows × 8 columns</p>\n",
       "</div>"
      ],
      "text/plain": [
       "       Rating               Company Name  \\\n",
       "10896     3.9  Tata Consultancy Services   \n",
       "10897     3.8                      Wipro   \n",
       "10898     3.8                  Capgemini   \n",
       "10899     3.3                    Infosys   \n",
       "10900     4.1                    Fresher   \n",
       "...       ...                        ...   \n",
       "11857     4.9                  Datalysys   \n",
       "11858     4.1   Innvectra Info Solutions   \n",
       "11859     3.3          PUJA DENTAL GROUP   \n",
       "11860     4.1                        IBM   \n",
       "11862     4.4                  Microsoft   \n",
       "\n",
       "                                  Job Title  Salary  Salaries Reported  \\\n",
       "10896                      Python Developer  200000                 26   \n",
       "10897                      Python Developer  200000                 10   \n",
       "10898                      Python Developer  300000                  9   \n",
       "10899                      Python Developer  200000                  8   \n",
       "10900                      Python Developer  120000                  7   \n",
       "...                                     ...     ...                ...   \n",
       "11857                  Python/Data Engineer  400000                  1   \n",
       "11858     Python Developer/Nodejs Developer  800000                  1   \n",
       "11859                C and Python Developer  216000                  1   \n",
       "11860  Python and Shell Scripting Developer  700000                  1   \n",
       "11862            Ethical Hacking and Python  936000                  1   \n",
       "\n",
       "        Location Employment Status Job Roles  \n",
       "10896  Bangalore         Full Time    Python  \n",
       "10897  Bangalore         Full Time    Python  \n",
       "10898  Bangalore         Full Time    Python  \n",
       "10899  Bangalore         Full Time    Python  \n",
       "10900  Bangalore         Full Time    Python  \n",
       "...          ...               ...       ...  \n",
       "11857  Hyderabad         Full Time    Python  \n",
       "11858  Hyderabad         Full Time    Python  \n",
       "11859  Hyderabad         Full Time    Python  \n",
       "11860  Hyderabad         Full Time    Python  \n",
       "11862  Hyderabad         Full Time    Python  \n",
       "\n",
       "[947 rows x 8 columns]"
      ]
     },
     "execution_count": 6,
     "metadata": {},
     "output_type": "execute_result"
    }
   ],
   "source": [
    "c_n_p = sps.loc[sps['Job Roles'] == 'Python']\n",
    "c_n_p"
   ]
  },
  {
   "cell_type": "code",
   "execution_count": 7,
   "id": "75161617-3b05-4590-ba64-3ee3b5f9fee6",
   "metadata": {},
   "outputs": [],
   "source": [
    "an_jb = c_n_p.loc[sps['Job Title'].str.contains(\"Analyst\", case=False)]"
   ]
  },
  {
   "cell_type": "code",
   "execution_count": 8,
   "id": "881f20b6-60dd-407b-9076-0df9ccda2961",
   "metadata": {},
   "outputs": [
    {
     "data": {
      "text/plain": [
       "3"
      ]
     },
     "execution_count": 8,
     "metadata": {},
     "output_type": "execute_result"
    }
   ],
   "source": [
    "an_jb['Company Name'].nunique()"
   ]
  },
  {
   "cell_type": "markdown",
   "id": "f2110f33-71b5-4537-9aee-514f96c06a23",
   "metadata": {},
   "source": [
    "5. Which `Company Name` has the highest number of `Salaries Reported` (across all `Job Title`s)?"
   ]
  },
  {
   "cell_type": "code",
   "execution_count": 9,
   "id": "0cd9baa9-897f-41b2-a062-a15d1bad566a",
   "metadata": {},
   "outputs": [
    {
     "data": {
      "text/html": [
       "<div>\n",
       "<style scoped>\n",
       "    .dataframe tbody tr th:only-of-type {\n",
       "        vertical-align: middle;\n",
       "    }\n",
       "\n",
       "    .dataframe tbody tr th {\n",
       "        vertical-align: top;\n",
       "    }\n",
       "\n",
       "    .dataframe thead th {\n",
       "        text-align: right;\n",
       "    }\n",
       "</style>\n",
       "<table border=\"1\" class=\"dataframe\">\n",
       "  <thead>\n",
       "    <tr style=\"text-align: right;\">\n",
       "      <th></th>\n",
       "      <th>Rating</th>\n",
       "      <th>Company Name</th>\n",
       "      <th>Job Title</th>\n",
       "      <th>Salary</th>\n",
       "      <th>Salaries Reported</th>\n",
       "      <th>Location</th>\n",
       "      <th>Employment Status</th>\n",
       "      <th>Job Roles</th>\n",
       "    </tr>\n",
       "  </thead>\n",
       "  <tbody>\n",
       "    <tr>\n",
       "      <th>19813</th>\n",
       "      <td>3.3</td>\n",
       "      <td>Infosys</td>\n",
       "      <td>Test Engineer</td>\n",
       "      <td>1104000</td>\n",
       "      <td>361</td>\n",
       "      <td>Hyderabad</td>\n",
       "      <td>Full Time</td>\n",
       "      <td>Testing</td>\n",
       "    </tr>\n",
       "    <tr>\n",
       "      <th>12342</th>\n",
       "      <td>3.8</td>\n",
       "      <td>Amazon</td>\n",
       "      <td>Software Development Engineer</td>\n",
       "      <td>5700000</td>\n",
       "      <td>353</td>\n",
       "      <td>Bangalore</td>\n",
       "      <td>Full Time</td>\n",
       "      <td>SDE</td>\n",
       "    </tr>\n",
       "    <tr>\n",
       "      <th>20773</th>\n",
       "      <td>3.3</td>\n",
       "      <td>Infosys</td>\n",
       "      <td>Test Engineer</td>\n",
       "      <td>100000</td>\n",
       "      <td>331</td>\n",
       "      <td>Bangalore</td>\n",
       "      <td>Full Time</td>\n",
       "      <td>Testing</td>\n",
       "    </tr>\n",
       "    <tr>\n",
       "      <th>12294</th>\n",
       "      <td>3.8</td>\n",
       "      <td>Amazon</td>\n",
       "      <td>Software Development Engineer (SDE)</td>\n",
       "      <td>1188000</td>\n",
       "      <td>291</td>\n",
       "      <td>Bangalore</td>\n",
       "      <td>Full Time</td>\n",
       "      <td>SDE</td>\n",
       "    </tr>\n",
       "    <tr>\n",
       "      <th>20344</th>\n",
       "      <td>3.3</td>\n",
       "      <td>Infosys</td>\n",
       "      <td>Test Analyst</td>\n",
       "      <td>852000</td>\n",
       "      <td>280</td>\n",
       "      <td>Hyderabad</td>\n",
       "      <td>Full Time</td>\n",
       "      <td>Testing</td>\n",
       "    </tr>\n",
       "    <tr>\n",
       "      <th>...</th>\n",
       "      <td>...</td>\n",
       "      <td>...</td>\n",
       "      <td>...</td>\n",
       "      <td>...</td>\n",
       "      <td>...</td>\n",
       "      <td>...</td>\n",
       "      <td>...</td>\n",
       "      <td>...</td>\n",
       "    </tr>\n",
       "    <tr>\n",
       "      <th>9184</th>\n",
       "      <td>4.2</td>\n",
       "      <td>Mindzen</td>\n",
       "      <td>Software Engineer - Java Developer</td>\n",
       "      <td>240000</td>\n",
       "      <td>1</td>\n",
       "      <td>Chennai</td>\n",
       "      <td>Full Time</td>\n",
       "      <td>Java</td>\n",
       "    </tr>\n",
       "    <tr>\n",
       "      <th>9183</th>\n",
       "      <td>4.3</td>\n",
       "      <td>3Edge</td>\n",
       "      <td>Software Engineer - Java Developer</td>\n",
       "      <td>372000</td>\n",
       "      <td>1</td>\n",
       "      <td>Chennai</td>\n",
       "      <td>Full Time</td>\n",
       "      <td>Java</td>\n",
       "    </tr>\n",
       "    <tr>\n",
       "      <th>9182</th>\n",
       "      <td>4.4</td>\n",
       "      <td>Shenll Technology Solutions</td>\n",
       "      <td>Software Engineer - Java Developer</td>\n",
       "      <td>300000</td>\n",
       "      <td>1</td>\n",
       "      <td>Chennai</td>\n",
       "      <td>Full Time</td>\n",
       "      <td>Java</td>\n",
       "    </tr>\n",
       "    <tr>\n",
       "      <th>9181</th>\n",
       "      <td>3.9</td>\n",
       "      <td>Hotfoot Technology Solutions</td>\n",
       "      <td>Software Engineer - Java Developer</td>\n",
       "      <td>300000</td>\n",
       "      <td>1</td>\n",
       "      <td>Chennai</td>\n",
       "      <td>Full Time</td>\n",
       "      <td>Java</td>\n",
       "    </tr>\n",
       "    <tr>\n",
       "      <th>11385</th>\n",
       "      <td>4.3</td>\n",
       "      <td>BA Continuum India</td>\n",
       "      <td>Python Developer</td>\n",
       "      <td>900000</td>\n",
       "      <td>1</td>\n",
       "      <td>Chennai</td>\n",
       "      <td>Full Time</td>\n",
       "      <td>Python</td>\n",
       "    </tr>\n",
       "  </tbody>\n",
       "</table>\n",
       "<p>22770 rows × 8 columns</p>\n",
       "</div>"
      ],
      "text/plain": [
       "       Rating                  Company Name  \\\n",
       "19813     3.3                       Infosys   \n",
       "12342     3.8                        Amazon   \n",
       "20773     3.3                       Infosys   \n",
       "12294     3.8                        Amazon   \n",
       "20344     3.3                       Infosys   \n",
       "...       ...                           ...   \n",
       "9184      4.2                       Mindzen   \n",
       "9183      4.3                         3Edge   \n",
       "9182      4.4   Shenll Technology Solutions   \n",
       "9181      3.9  Hotfoot Technology Solutions   \n",
       "11385     4.3            BA Continuum India   \n",
       "\n",
       "                                 Job Title   Salary  Salaries Reported  \\\n",
       "19813                        Test Engineer  1104000                361   \n",
       "12342        Software Development Engineer  5700000                353   \n",
       "20773                        Test Engineer   100000                331   \n",
       "12294  Software Development Engineer (SDE)  1188000                291   \n",
       "20344                         Test Analyst   852000                280   \n",
       "...                                    ...      ...                ...   \n",
       "9184    Software Engineer - Java Developer   240000                  1   \n",
       "9183    Software Engineer - Java Developer   372000                  1   \n",
       "9182    Software Engineer - Java Developer   300000                  1   \n",
       "9181    Software Engineer - Java Developer   300000                  1   \n",
       "11385                     Python Developer   900000                  1   \n",
       "\n",
       "        Location Employment Status Job Roles  \n",
       "19813  Hyderabad         Full Time   Testing  \n",
       "12342  Bangalore         Full Time       SDE  \n",
       "20773  Bangalore         Full Time   Testing  \n",
       "12294  Bangalore         Full Time       SDE  \n",
       "20344  Hyderabad         Full Time   Testing  \n",
       "...          ...               ...       ...  \n",
       "9184     Chennai         Full Time      Java  \n",
       "9183     Chennai         Full Time      Java  \n",
       "9182     Chennai         Full Time      Java  \n",
       "9181     Chennai         Full Time      Java  \n",
       "11385    Chennai         Full Time    Python  \n",
       "\n",
       "[22770 rows x 8 columns]"
      ]
     },
     "execution_count": 9,
     "metadata": {},
     "output_type": "execute_result"
    }
   ],
   "source": [
    "sps.sort_values(by=['Salaries Reported'], ascending=False)"
   ]
  },
  {
   "cell_type": "markdown",
   "id": "902fbf21-180a-44de-81e4-50457980c762",
   "metadata": {},
   "source": [
    "6. Given the `Company Name` you found at the previous question, how many `Location`s is this company present in? "
   ]
  },
  {
   "cell_type": "code",
   "execution_count": 10,
   "id": "918e629a-b114-4064-8943-2cd283988e07",
   "metadata": {},
   "outputs": [],
   "source": [
    "sps_base = sps.loc[sps['Company Name'] == \"Infosys\"]"
   ]
  },
  {
   "cell_type": "code",
   "execution_count": 11,
   "id": "53598897-c8a5-4f21-9681-199fa4909436",
   "metadata": {},
   "outputs": [
    {
     "data": {
      "text/plain": [
       "Hyderabad         59\n",
       "Bangalore         46\n",
       "Chennai           29\n",
       "Pune              20\n",
       "New Delhi          6\n",
       "Madhya Pradesh     3\n",
       "Mumbai             3\n",
       "Kerala             2\n",
       "Jaipur             1\n",
       "Name: Location, dtype: int64"
      ]
     },
     "execution_count": 11,
     "metadata": {},
     "output_type": "execute_result"
    }
   ],
   "source": [
    "sps_base[\"Location\"].value_counts()"
   ]
  },
  {
   "cell_type": "code",
   "execution_count": 12,
   "id": "9b17ab40-1afc-412c-86c1-b1853a2e1046",
   "metadata": {},
   "outputs": [
    {
     "data": {
      "text/plain": [
       "Rating                 1\n",
       "Company Name           1\n",
       "Job Title            112\n",
       "Salary                44\n",
       "Salaries Reported     25\n",
       "Location               9\n",
       "Employment Status      3\n",
       "Job Roles             11\n",
       "dtype: int64"
      ]
     },
     "execution_count": 12,
     "metadata": {},
     "output_type": "execute_result"
    }
   ],
   "source": [
    "sps_base.nunique()"
   ]
  },
  {
   "cell_type": "markdown",
   "id": "dee41965-0db4-446d-bf20-174898462a8d",
   "metadata": {},
   "source": [
    "7. As you may have noticed, the `Salary` is reported in Indian Rupees (ISO code: INR). Using the [Open Access Endpoint](https://www.exchangerate-api.com/docs/free) (no API Key required) of the ExchangeRate-API service, create a new column named `Salary USD` containing the salary-equivalent in USD and round the result to zero decimals. What is the conversion rate between USD-INR at the time of your execution? *Note: of course, this result will change in time*"
   ]
  },
  {
   "cell_type": "code",
   "execution_count": 13,
   "id": "bab08d9b-ac6c-4ae6-a6fe-1efded5e4bab",
   "metadata": {},
   "outputs": [
    {
     "data": {
      "text/plain": [
       "200"
      ]
     },
     "execution_count": 13,
     "metadata": {},
     "output_type": "execute_result"
    }
   ],
   "source": [
    "import requests\n",
    "url='https://open.er-api.com/v6/latest/USD'\n",
    "r=requests.get(url)\n",
    "r.status_code"
   ]
  },
  {
   "cell_type": "code",
   "execution_count": 14,
   "id": "0552e9e9-cde2-42e0-90b5-e444d8240e44",
   "metadata": {},
   "outputs": [
    {
     "data": {
      "text/plain": [
       "79.34"
      ]
     },
     "execution_count": 14,
     "metadata": {},
     "output_type": "execute_result"
    }
   ],
   "source": [
    "r.json()\n",
    "r.json()['rates']['INR']"
   ]
  },
  {
   "cell_type": "code",
   "execution_count": 15,
   "id": "6162da3f-105d-4c8b-ac9f-e812be6448f5",
   "metadata": {},
   "outputs": [
    {
     "data": {
      "text/html": [
       "<div>\n",
       "<style scoped>\n",
       "    .dataframe tbody tr th:only-of-type {\n",
       "        vertical-align: middle;\n",
       "    }\n",
       "\n",
       "    .dataframe tbody tr th {\n",
       "        vertical-align: top;\n",
       "    }\n",
       "\n",
       "    .dataframe thead th {\n",
       "        text-align: right;\n",
       "    }\n",
       "</style>\n",
       "<table border=\"1\" class=\"dataframe\">\n",
       "  <thead>\n",
       "    <tr style=\"text-align: right;\">\n",
       "      <th></th>\n",
       "      <th>Rating</th>\n",
       "      <th>Company Name</th>\n",
       "      <th>Job Title</th>\n",
       "      <th>Salary</th>\n",
       "      <th>Salaries Reported</th>\n",
       "      <th>Location</th>\n",
       "      <th>Employment Status</th>\n",
       "      <th>Job Roles</th>\n",
       "      <th>Salary USD</th>\n",
       "    </tr>\n",
       "  </thead>\n",
       "  <tbody>\n",
       "    <tr>\n",
       "      <th>0</th>\n",
       "      <td>3.8</td>\n",
       "      <td>Sasken</td>\n",
       "      <td>Android Developer</td>\n",
       "      <td>400000</td>\n",
       "      <td>3</td>\n",
       "      <td>Bangalore</td>\n",
       "      <td>Full Time</td>\n",
       "      <td>Android</td>\n",
       "      <td>316880.0</td>\n",
       "    </tr>\n",
       "    <tr>\n",
       "      <th>1</th>\n",
       "      <td>4.5</td>\n",
       "      <td>Advanced Millennium Technologies</td>\n",
       "      <td>Android Developer</td>\n",
       "      <td>400000</td>\n",
       "      <td>3</td>\n",
       "      <td>Bangalore</td>\n",
       "      <td>Full Time</td>\n",
       "      <td>Android</td>\n",
       "      <td>316880.0</td>\n",
       "    </tr>\n",
       "    <tr>\n",
       "      <th>2</th>\n",
       "      <td>4.0</td>\n",
       "      <td>Unacademy</td>\n",
       "      <td>Android Developer</td>\n",
       "      <td>1000000</td>\n",
       "      <td>3</td>\n",
       "      <td>Bangalore</td>\n",
       "      <td>Full Time</td>\n",
       "      <td>Android</td>\n",
       "      <td>792200.0</td>\n",
       "    </tr>\n",
       "    <tr>\n",
       "      <th>3</th>\n",
       "      <td>3.8</td>\n",
       "      <td>SnapBizz Cloudtech</td>\n",
       "      <td>Android Developer</td>\n",
       "      <td>300000</td>\n",
       "      <td>3</td>\n",
       "      <td>Bangalore</td>\n",
       "      <td>Full Time</td>\n",
       "      <td>Android</td>\n",
       "      <td>237660.0</td>\n",
       "    </tr>\n",
       "    <tr>\n",
       "      <th>4</th>\n",
       "      <td>4.4</td>\n",
       "      <td>Appoids Tech Solutions</td>\n",
       "      <td>Android Developer</td>\n",
       "      <td>600000</td>\n",
       "      <td>3</td>\n",
       "      <td>Bangalore</td>\n",
       "      <td>Full Time</td>\n",
       "      <td>Android</td>\n",
       "      <td>475320.0</td>\n",
       "    </tr>\n",
       "  </tbody>\n",
       "</table>\n",
       "</div>"
      ],
      "text/plain": [
       "   Rating                      Company Name          Job Title   Salary  \\\n",
       "0     3.8                            Sasken  Android Developer   400000   \n",
       "1     4.5  Advanced Millennium Technologies  Android Developer   400000   \n",
       "2     4.0                         Unacademy  Android Developer  1000000   \n",
       "3     3.8                SnapBizz Cloudtech  Android Developer   300000   \n",
       "4     4.4            Appoids Tech Solutions  Android Developer   600000   \n",
       "\n",
       "   Salaries Reported   Location Employment Status Job Roles  Salary USD  \n",
       "0                  3  Bangalore         Full Time   Android    316880.0  \n",
       "1                  3  Bangalore         Full Time   Android    316880.0  \n",
       "2                  3  Bangalore         Full Time   Android    792200.0  \n",
       "3                  3  Bangalore         Full Time   Android    237660.0  \n",
       "4                  3  Bangalore         Full Time   Android    475320.0  "
      ]
     },
     "execution_count": 15,
     "metadata": {},
     "output_type": "execute_result"
    }
   ],
   "source": [
    "sps['Salary USD']=(79.22 * sps['Salary'])/100\n",
    "sps.head()"
   ]
  },
  {
   "cell_type": "markdown",
   "id": "c457c816-0762-4727-a4dc-b89d0b12eea5",
   "metadata": {},
   "source": [
    "8. What is the average `Salary USD` for the \"Python\" `Job Role`? "
   ]
  },
  {
   "cell_type": "code",
   "execution_count": 16,
   "id": "fcc1f4be-7c64-4a1d-9153-2ae16183975e",
   "metadata": {},
   "outputs": [
    {
     "name": "stderr",
     "output_type": "stream",
     "text": [
      "C:\\Users\\polla\\AppData\\Local\\Temp\\ipykernel_8280\\3213996173.py:1: FutureWarning: Dropping of nuisance columns in DataFrame reductions (with 'numeric_only=None') is deprecated; in a future version this will raise TypeError.  Select only valid columns before calling the reduction.\n",
      "  sps.loc[sps['Job Roles']=='Python'].mean()\n"
     ]
    },
    {
     "data": {
      "text/plain": [
       "Rating                    3.965259\n",
       "Salary               486022.791975\n",
       "Salaries Reported         1.225977\n",
       "Salary USD           385027.255802\n",
       "dtype: float64"
      ]
     },
     "execution_count": 16,
     "metadata": {},
     "output_type": "execute_result"
    }
   ],
   "source": [
    "sps.loc[sps['Job Roles']=='Python'].mean()"
   ]
  },
  {
   "cell_type": "markdown",
   "id": "32420ea4-9878-47d9-a001-eef14914f481",
   "metadata": {},
   "source": [
    "9. Which `Company Name` has the highest **average** `Salary EUR` across all `Job Title`s? "
   ]
  },
  {
   "cell_type": "code",
   "execution_count": 17,
   "id": "5b5cf178-3abc-46d9-97b7-d9e02a8a6fd2",
   "metadata": {},
   "outputs": [
    {
     "data": {
      "text/plain": [
       "200"
      ]
     },
     "execution_count": 17,
     "metadata": {},
     "output_type": "execute_result"
    }
   ],
   "source": [
    "url='https://open.er-api.com/v6/latest/EUR'\n",
    "r = requests.get(url)\n",
    "r.status_code"
   ]
  },
  {
   "cell_type": "code",
   "execution_count": 18,
   "id": "9b648193-c2e0-4396-98ff-01dbf1d80f2c",
   "metadata": {
    "tags": []
   },
   "outputs": [
    {
     "data": {
      "text/html": [
       "<div>\n",
       "<style scoped>\n",
       "    .dataframe tbody tr th:only-of-type {\n",
       "        vertical-align: middle;\n",
       "    }\n",
       "\n",
       "    .dataframe tbody tr th {\n",
       "        vertical-align: top;\n",
       "    }\n",
       "\n",
       "    .dataframe thead th {\n",
       "        text-align: right;\n",
       "    }\n",
       "</style>\n",
       "<table border=\"1\" class=\"dataframe\">\n",
       "  <thead>\n",
       "    <tr style=\"text-align: right;\">\n",
       "      <th></th>\n",
       "      <th>Rating</th>\n",
       "      <th>Company Name</th>\n",
       "      <th>Job Title</th>\n",
       "      <th>Salary</th>\n",
       "      <th>Salaries Reported</th>\n",
       "      <th>Location</th>\n",
       "      <th>Employment Status</th>\n",
       "      <th>Job Roles</th>\n",
       "      <th>Salary USD</th>\n",
       "      <th>Salary EUR</th>\n",
       "    </tr>\n",
       "  </thead>\n",
       "  <tbody>\n",
       "    <tr>\n",
       "      <th>0</th>\n",
       "      <td>3.8</td>\n",
       "      <td>Sasken</td>\n",
       "      <td>Android Developer</td>\n",
       "      <td>400000</td>\n",
       "      <td>3</td>\n",
       "      <td>Bangalore</td>\n",
       "      <td>Full Time</td>\n",
       "      <td>Android</td>\n",
       "      <td>316880.0</td>\n",
       "      <td>400000.0</td>\n",
       "    </tr>\n",
       "    <tr>\n",
       "      <th>1</th>\n",
       "      <td>4.5</td>\n",
       "      <td>Advanced Millennium Technologies</td>\n",
       "      <td>Android Developer</td>\n",
       "      <td>400000</td>\n",
       "      <td>3</td>\n",
       "      <td>Bangalore</td>\n",
       "      <td>Full Time</td>\n",
       "      <td>Android</td>\n",
       "      <td>316880.0</td>\n",
       "      <td>400000.0</td>\n",
       "    </tr>\n",
       "    <tr>\n",
       "      <th>2</th>\n",
       "      <td>4.0</td>\n",
       "      <td>Unacademy</td>\n",
       "      <td>Android Developer</td>\n",
       "      <td>1000000</td>\n",
       "      <td>3</td>\n",
       "      <td>Bangalore</td>\n",
       "      <td>Full Time</td>\n",
       "      <td>Android</td>\n",
       "      <td>792200.0</td>\n",
       "      <td>1000000.0</td>\n",
       "    </tr>\n",
       "    <tr>\n",
       "      <th>3</th>\n",
       "      <td>3.8</td>\n",
       "      <td>SnapBizz Cloudtech</td>\n",
       "      <td>Android Developer</td>\n",
       "      <td>300000</td>\n",
       "      <td>3</td>\n",
       "      <td>Bangalore</td>\n",
       "      <td>Full Time</td>\n",
       "      <td>Android</td>\n",
       "      <td>237660.0</td>\n",
       "      <td>300000.0</td>\n",
       "    </tr>\n",
       "    <tr>\n",
       "      <th>4</th>\n",
       "      <td>4.4</td>\n",
       "      <td>Appoids Tech Solutions</td>\n",
       "      <td>Android Developer</td>\n",
       "      <td>600000</td>\n",
       "      <td>3</td>\n",
       "      <td>Bangalore</td>\n",
       "      <td>Full Time</td>\n",
       "      <td>Android</td>\n",
       "      <td>475320.0</td>\n",
       "      <td>600000.0</td>\n",
       "    </tr>\n",
       "  </tbody>\n",
       "</table>\n",
       "</div>"
      ],
      "text/plain": [
       "   Rating                      Company Name          Job Title   Salary  \\\n",
       "0     3.8                            Sasken  Android Developer   400000   \n",
       "1     4.5  Advanced Millennium Technologies  Android Developer   400000   \n",
       "2     4.0                         Unacademy  Android Developer  1000000   \n",
       "3     3.8                SnapBizz Cloudtech  Android Developer   300000   \n",
       "4     4.4            Appoids Tech Solutions  Android Developer   600000   \n",
       "\n",
       "   Salaries Reported   Location Employment Status Job Roles  Salary USD  \\\n",
       "0                  3  Bangalore         Full Time   Android    316880.0   \n",
       "1                  3  Bangalore         Full Time   Android    316880.0   \n",
       "2                  3  Bangalore         Full Time   Android    792200.0   \n",
       "3                  3  Bangalore         Full Time   Android    237660.0   \n",
       "4                  3  Bangalore         Full Time   Android    475320.0   \n",
       "\n",
       "   Salary EUR  \n",
       "0    400000.0  \n",
       "1    400000.0  \n",
       "2   1000000.0  \n",
       "3    300000.0  \n",
       "4    600000.0  "
      ]
     },
     "execution_count": 18,
     "metadata": {},
     "output_type": "execute_result"
    }
   ],
   "source": [
    "r.json()['rates']['EUR']\n",
    "sps['Salary EUR'] = round(sps['Salary']/r.json()['rates']['EUR'])\n",
    "sps.head()"
   ]
  },
  {
   "cell_type": "code",
   "execution_count": 19,
   "id": "c5dd848e-497e-43ab-8509-2f5a756089df",
   "metadata": {},
   "outputs": [
    {
     "data": {
      "text/html": [
       "<div>\n",
       "<style scoped>\n",
       "    .dataframe tbody tr th:only-of-type {\n",
       "        vertical-align: middle;\n",
       "    }\n",
       "\n",
       "    .dataframe tbody tr th {\n",
       "        vertical-align: top;\n",
       "    }\n",
       "\n",
       "    .dataframe thead th {\n",
       "        text-align: right;\n",
       "    }\n",
       "</style>\n",
       "<table border=\"1\" class=\"dataframe\">\n",
       "  <thead>\n",
       "    <tr style=\"text-align: right;\">\n",
       "      <th></th>\n",
       "      <th>Company Name</th>\n",
       "      <th>Rating</th>\n",
       "      <th>Salary EUR</th>\n",
       "    </tr>\n",
       "  </thead>\n",
       "  <tbody>\n",
       "    <tr>\n",
       "      <th>9414</th>\n",
       "      <td>Thapar University</td>\n",
       "      <td>3.6</td>\n",
       "      <td>90000000.0</td>\n",
       "    </tr>\n",
       "    <tr>\n",
       "      <th>3182</th>\n",
       "      <td>FFF Enterprises</td>\n",
       "      <td>4.2</td>\n",
       "      <td>9800000.0</td>\n",
       "    </tr>\n",
       "    <tr>\n",
       "      <th>2665</th>\n",
       "      <td>Digital Raju</td>\n",
       "      <td>4.3</td>\n",
       "      <td>9800000.0</td>\n",
       "    </tr>\n",
       "    <tr>\n",
       "      <th>3565</th>\n",
       "      <td>Gaana Lyrics Point.com</td>\n",
       "      <td>5.0</td>\n",
       "      <td>9700000.0</td>\n",
       "    </tr>\n",
       "    <tr>\n",
       "      <th>3534</th>\n",
       "      <td>GGH Heavy Industries</td>\n",
       "      <td>4.6</td>\n",
       "      <td>9600000.0</td>\n",
       "    </tr>\n",
       "  </tbody>\n",
       "</table>\n",
       "</div>"
      ],
      "text/plain": [
       "                Company Name  Rating  Salary EUR\n",
       "9414       Thapar University     3.6  90000000.0\n",
       "3182         FFF Enterprises     4.2   9800000.0\n",
       "2665            Digital Raju     4.3   9800000.0\n",
       "3565  Gaana Lyrics Point.com     5.0   9700000.0\n",
       "3534    GGH Heavy Industries     4.6   9600000.0"
      ]
     },
     "execution_count": 19,
     "metadata": {},
     "output_type": "execute_result"
    }
   ],
   "source": [
    "sps2 = sps.groupby(['Company Name'], as_index=False)[['Rating', 'Salary EUR']].mean().sort_values('Salary EUR', ascending=False)\n",
    "sps2.head()"
   ]
  },
  {
   "cell_type": "markdown",
   "id": "10383dad",
   "metadata": {},
   "source": [
    "10. Create a Plot that shows the **relationship** between the average `Salary EUR` and the average `Rating` for each `Company Name`. Do you see any anomaly in the plot? Which is the `Company Name` that is causing this oddity?"
   ]
  },
  {
   "cell_type": "code",
   "execution_count": 20,
   "id": "abcd0436-a33c-4b64-9602-16cac35fba24",
   "metadata": {},
   "outputs": [
    {
     "data": {
      "text/plain": [
       "<AxesSubplot:xlabel='Rating', ylabel='Salary EUR'>"
      ]
     },
     "execution_count": 20,
     "metadata": {},
     "output_type": "execute_result"
    },
    {
     "data": {
      "image/png": "[encoded data removed]",
      "text/plain": [
       "<Figure size 432x288 with 1 Axes>"
      ]
     },
     "metadata": {
      "needs_background": "light"
     },
     "output_type": "display_data"
    }
   ],
   "source": [
    "sns.scatterplot(x='Rating', y='Salary EUR', data=sps2)"
   ]
  },
  {
   "cell_type": "code",
   "execution_count": 21,
   "id": "f75a937d-8871-412c-ac43-03d2b04f2ace",
   "metadata": {},
   "outputs": [
    {
     "data": {
      "text/html": [
       "<div>\n",
       "<style scoped>\n",
       "    .dataframe tbody tr th:only-of-type {\n",
       "        vertical-align: middle;\n",
       "    }\n",
       "\n",
       "    .dataframe tbody tr th {\n",
       "        vertical-align: top;\n",
       "    }\n",
       "\n",
       "    .dataframe thead th {\n",
       "        text-align: right;\n",
       "    }\n",
       "</style>\n",
       "<table border=\"1\" class=\"dataframe\">\n",
       "  <thead>\n",
       "    <tr style=\"text-align: right;\">\n",
       "      <th></th>\n",
       "      <th>Company Name</th>\n",
       "      <th>Rating</th>\n",
       "      <th>Salary EUR</th>\n",
       "    </tr>\n",
       "  </thead>\n",
       "  <tbody>\n",
       "    <tr>\n",
       "      <th>2665</th>\n",
       "      <td>Digital Raju</td>\n",
       "      <td>4.3</td>\n",
       "      <td>9800000.0</td>\n",
       "    </tr>\n",
       "    <tr>\n",
       "      <th>3182</th>\n",
       "      <td>FFF Enterprises</td>\n",
       "      <td>4.2</td>\n",
       "      <td>9800000.0</td>\n",
       "    </tr>\n",
       "    <tr>\n",
       "      <th>3565</th>\n",
       "      <td>Gaana Lyrics Point.com</td>\n",
       "      <td>5.0</td>\n",
       "      <td>9700000.0</td>\n",
       "    </tr>\n",
       "    <tr>\n",
       "      <th>3534</th>\n",
       "      <td>GGH Heavy Industries</td>\n",
       "      <td>4.6</td>\n",
       "      <td>9600000.0</td>\n",
       "    </tr>\n",
       "    <tr>\n",
       "      <th>9362</th>\n",
       "      <td>Tenneco</td>\n",
       "      <td>3.3</td>\n",
       "      <td>7700000.0</td>\n",
       "    </tr>\n",
       "    <tr>\n",
       "      <th>...</th>\n",
       "      <td>...</td>\n",
       "      <td>...</td>\n",
       "      <td>...</td>\n",
       "    </tr>\n",
       "    <tr>\n",
       "      <th>341</th>\n",
       "      <td>Acmatics Technologies</td>\n",
       "      <td>3.5</td>\n",
       "      <td>12000.0</td>\n",
       "    </tr>\n",
       "    <tr>\n",
       "      <th>3111</th>\n",
       "      <td>Excel Engineering Services</td>\n",
       "      <td>4.4</td>\n",
       "      <td>12000.0</td>\n",
       "    </tr>\n",
       "    <tr>\n",
       "      <th>3</th>\n",
       "      <td>....</td>\n",
       "      <td>4.0</td>\n",
       "      <td>12000.0</td>\n",
       "    </tr>\n",
       "    <tr>\n",
       "      <th>548</th>\n",
       "      <td>Al-Jazirah</td>\n",
       "      <td>3.9</td>\n",
       "      <td>12000.0</td>\n",
       "    </tr>\n",
       "    <tr>\n",
       "      <th>4999</th>\n",
       "      <td>Keeves Technologies</td>\n",
       "      <td>2.6</td>\n",
       "      <td>2112.0</td>\n",
       "    </tr>\n",
       "  </tbody>\n",
       "</table>\n",
       "<p>11260 rows × 3 columns</p>\n",
       "</div>"
      ],
      "text/plain": [
       "                    Company Name  Rating  Salary EUR\n",
       "2665                Digital Raju     4.3   9800000.0\n",
       "3182             FFF Enterprises     4.2   9800000.0\n",
       "3565      Gaana Lyrics Point.com     5.0   9700000.0\n",
       "3534        GGH Heavy Industries     4.6   9600000.0\n",
       "9362                     Tenneco     3.3   7700000.0\n",
       "...                          ...     ...         ...\n",
       "341        Acmatics Technologies     3.5     12000.0\n",
       "3111  Excel Engineering Services     4.4     12000.0\n",
       "3                           ....     4.0     12000.0\n",
       "548                   Al-Jazirah     3.9     12000.0\n",
       "4999         Keeves Technologies     2.6      2112.0\n",
       "\n",
       "[11260 rows x 3 columns]"
      ]
     },
     "execution_count": 21,
     "metadata": {},
     "output_type": "execute_result"
    }
   ],
   "source": [
    "sps3 = sps2.sort_values('Salary EUR', ascending=False)\n",
    "sps4 = sps3.iloc[1:]\n",
    "sps4"
   ]
  },
  {
   "cell_type": "code",
   "execution_count": 22,
   "id": "086f14d2-2658-4fd2-82eb-120cccaaae05",
   "metadata": {},
   "outputs": [
    {
     "data": {
      "text/plain": [
       "<AxesSubplot:xlabel='Rating', ylabel='Salary EUR'>"
      ]
     },
     "execution_count": 22,
     "metadata": {},
     "output_type": "execute_result"
    },
    {
     "data": {
      "image/png": "[encoded data removed]",
      "text/plain": [
       "<Figure size 432x288 with 1 Axes>"
      ]
     },
     "metadata": {
      "needs_background": "light"
     },
     "output_type": "display_data"
    }
   ],
   "source": [
    "sns.scatterplot(x='Rating', y='Salary EUR', data=sps4)"
   ]
  }
 ],
 "metadata": {
  "kernelspec": {
   "display_name": "Python 3 (ipykernel)",
   "language": "python",
   "name": "python3"
  },
  "language_info": {
   "codemirror_mode": {
    "name": "ipython",
    "version": 3
   },
   "file_extension": ".py",
   "mimetype": "text/x-python",
   "name": "python",
   "nbconvert_exporter": "python",
   "pygments_lexer": "ipython3",
   "version": "3.9.12"
  }
 },
 "nbformat": 4,
 "nbformat_minor": 5
}
