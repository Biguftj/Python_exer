{
 "cells": [
  {
   "cell_type": "markdown",
   "id": "dcac367b-11f8-45ec-80d7-2908fa035340",
   "metadata": {},
   "source": [
    "# Homework"
   ]
  },
  {
   "cell_type": "markdown",
   "id": "e5ced7a7-7d64-44ec-9d0d-d4b2f85a8923",
   "metadata": {},
   "source": [
    "Before you begin, remember to import the necessary libraries."
   ]
  },
  {
   "cell_type": "code",
   "execution_count": 1,
   "id": "4552b3bb-32c2-4c7e-966a-cd586f8f935c",
   "metadata": {},
   "outputs": [],
   "source": [
    "import numpy as np\n",
    "import pandas as pd\n",
    "\n",
    "from matplotlib import pyplot as plt\n",
    "import seaborn as sns\n",
    "sns.set_theme()\n",
    "\n",
    "import statsmodels.api as sm\n",
    "from sklearn.linear_model import LinearRegression"
   ]
  },
  {
   "cell_type": "markdown",
   "id": "3c4bd9ba-9235-4621-bd25-00491b7e43bb",
   "metadata": {},
   "source": [
    "### Standard Exercise"
   ]
  },
  {
   "cell_type": "markdown",
   "id": "d8a822f2-1278-446d-94ce-797e46015021",
   "metadata": {},
   "source": [
    "The [data](https://www.statsmodels.org/devel/datasets/generated/engel.html) contained in the `df` DataFrame represents **income** and **food expenditure** for 235 working class households in 1857 Belgium. It was loaded from `statsmodels`' library using  its [Dataset Package](https://www.statsmodels.org/devel/datasets/index.html). \n",
    "\n"
   ]
  },
  {
   "cell_type": "code",
   "execution_count": 2,
   "id": "bfaf5a74-6cf8-4a4f-bfeb-04ab6f035390",
   "metadata": {},
   "outputs": [
    {
     "data": {
      "text/html": [
       "<div>\n",
       "<style scoped>\n",
       "    .dataframe tbody tr th:only-of-type {\n",
       "        vertical-align: middle;\n",
       "    }\n",
       "\n",
       "    .dataframe tbody tr th {\n",
       "        vertical-align: top;\n",
       "    }\n",
       "\n",
       "    .dataframe thead th {\n",
       "        text-align: right;\n",
       "    }\n",
       "</style>\n",
       "<table border=\"1\" class=\"dataframe\">\n",
       "  <thead>\n",
       "    <tr style=\"text-align: right;\">\n",
       "      <th></th>\n",
       "      <th>income</th>\n",
       "      <th>foodexp</th>\n",
       "    </tr>\n",
       "  </thead>\n",
       "  <tbody>\n",
       "    <tr>\n",
       "      <th>0</th>\n",
       "      <td>420.157651</td>\n",
       "      <td>255.839425</td>\n",
       "    </tr>\n",
       "    <tr>\n",
       "      <th>1</th>\n",
       "      <td>541.411707</td>\n",
       "      <td>310.958667</td>\n",
       "    </tr>\n",
       "    <tr>\n",
       "      <th>2</th>\n",
       "      <td>901.157457</td>\n",
       "      <td>485.680014</td>\n",
       "    </tr>\n",
       "    <tr>\n",
       "      <th>3</th>\n",
       "      <td>639.080229</td>\n",
       "      <td>402.997356</td>\n",
       "    </tr>\n",
       "    <tr>\n",
       "      <th>4</th>\n",
       "      <td>750.875606</td>\n",
       "      <td>495.560775</td>\n",
       "    </tr>\n",
       "  </tbody>\n",
       "</table>\n",
       "</div>"
      ],
      "text/plain": [
       "       income     foodexp\n",
       "0  420.157651  255.839425\n",
       "1  541.411707  310.958667\n",
       "2  901.157457  485.680014\n",
       "3  639.080229  402.997356\n",
       "4  750.875606  495.560775"
      ]
     },
     "execution_count": 2,
     "metadata": {},
     "output_type": "execute_result"
    }
   ],
   "source": [
    "# run this cell (do not delete it)\n",
    "df = sm.datasets.engel.load_pandas().data\n",
    "df.head()"
   ]
  },
  {
   "cell_type": "markdown",
   "id": "b7fd9e97-25ac-44f0-ab94-1877538ed1a9",
   "metadata": {},
   "source": [
    "1. Use an appropriate chart to visualise the **relationship** between the `income` and `foodexp` variables and give a first rough description of their relationship in terms of sign and intensity. "
   ]
  },
  {
   "cell_type": "code",
   "execution_count": 3,
   "id": "3b7c17ba-aa69-4394-a829-85d9dc801496",
   "metadata": {},
   "outputs": [
    {
     "data": {
      "image/png": "[encoded data removed]",
      "text/plain": [
       "<Figure size 432x288 with 1 Axes>"
      ]
     },
     "metadata": {},
     "output_type": "display_data"
    }
   ],
   "source": [
    "sns.scatterplot(x='income', y='foodexp', data=df)\n",
    "plt.show()"
   ]
  },
  {
   "cell_type": "markdown",
   "id": "9da648d6-67ab-4e25-a0e4-13a77ae77d93",
   "metadata": {},
   "source": [
    "The correlation between the two variables looks positive."
   ]
  },
  {
   "cell_type": "markdown",
   "id": "aaf039d7-9fa0-4e2c-ab6d-d4d2bd24e91d",
   "metadata": {},
   "source": [
    "2. Use an appropriate metric to measure the sign and strength of the relationship between the two metrics from the previous point. "
   ]
  },
  {
   "cell_type": "code",
   "execution_count": 7,
   "id": "95a07bc0-a355-413b-889e-3a7ada15d20f",
   "metadata": {},
   "outputs": [
    {
     "name": "stdout",
     "output_type": "stream",
     "text": [
      "Correlation coefficient between X and Y: 0.91\n"
     ]
    }
   ],
   "source": [
    "correl = df.income.corr(df.foodexp)\n",
    "print('Correlation coefficient between X and Y:', round(correl, 2))"
   ]
  },
  {
   "cell_type": "markdown",
   "id": "d438ce4b-8b33-43f6-953d-047b117f2153",
   "metadata": {},
   "source": [
    "3. You should have noticed some anomalous values in the chart from the first question. Would you define them as extreme values or as outliers? Why? Would you keep them in your dataset or remove them?"
   ]
  },
  {
   "cell_type": "markdown",
   "id": "40fa64ca-8fb4-40c1-85e1-32080191f02d",
   "metadata": {},
   "source": [
    "They are clearly extreme values because, although they distance themselves quite a lot from the bulk of the data, they definitely lay in a range of possible income and food expenditure values (whereas outliers take values that are not physically or conceptually possible, given the context under scrutiny). Extreme values should be kept in the dataset, because they are part of the data and contain important information about the dispersion of the feature we're studying."
   ]
  },
  {
   "cell_type": "markdown",
   "id": "31b01a0a-39f4-4e5f-a714-a72000dbbcfb",
   "metadata": {},
   "source": [
    "4. Using the `statsmodels` package, define a linear regression model that fits the data. Specifically, use `foodexp` as the dependent variable and `income` as the predictor *(note: remember to add a constant to the model)*. Then print a summary table showing the main statistics and the estimated coefficients. "
   ]
  },
  {
   "cell_type": "code",
   "execution_count": 11,
   "id": "c35baea6-14ee-4860-932a-9ee882e4e824",
   "metadata": {},
   "outputs": [],
   "source": [
    "Y = df['foodexp']\n",
    "X = df['income']\n",
    "X = sm.add_constant(X)   # add a constant to the model\n",
    "model = sm.OLS(Y,X)\n",
    "results = model.fit()"
   ]
  },
  {
   "cell_type": "markdown",
   "id": "3d62d20c-2ace-493e-9f4d-e198057d1ea7",
   "metadata": {},
   "source": [
    "5. Given the summary table from the previous question, comment on the regression line's coefficients (intercept and slope) as well as on the $R^2$ statistic. Is the model fitting well the data or not?"
   ]
  },
  {
   "cell_type": "code",
   "execution_count": null,
   "id": "748978f2-68d9-4e56-bd2c-28360a36df82",
   "metadata": {},
   "outputs": [
    {
     "data": {
      "text/html": [
       "<table class=\"simpletable\">\n",
       "<caption>OLS Regression Results</caption>\n",
       "<tr>\n",
       "  <th>Dep. Variable:</th>         <td>foodexp</td>     <th>  R-squared:         </th> <td>   0.830</td>\n",
       "</tr>\n",
       "<tr>\n",
       "  <th>Model:</th>                   <td>OLS</td>       <th>  Adj. R-squared:    </th> <td>   0.830</td>\n",
       "</tr>\n",
       "<tr>\n",
       "  <th>Method:</th>             <td>Least Squares</td>  <th>  F-statistic:       </th> <td>   1141.</td>\n",
       "</tr>\n",
       "<tr>\n",
       "  <th>Date:</th>             <td>Wed, 17 Aug 2022</td> <th>  Prob (F-statistic):</th> <td>9.92e-92</td>\n",
       "</tr>\n",
       "<tr>\n",
       "  <th>Time:</th>                 <td>14:07:45</td>     <th>  Log-Likelihood:    </th> <td> -1445.7</td>\n",
       "</tr>\n",
       "<tr>\n",
       "  <th>No. Observations:</th>      <td>   235</td>      <th>  AIC:               </th> <td>   2895.</td>\n",
       "</tr>\n",
       "<tr>\n",
       "  <th>Df Residuals:</th>          <td>   233</td>      <th>  BIC:               </th> <td>   2902.</td>\n",
       "</tr>\n",
       "<tr>\n",
       "  <th>Df Model:</th>              <td>     1</td>      <th>                     </th>     <td> </td>   \n",
       "</tr>\n",
       "<tr>\n",
       "  <th>Covariance Type:</th>      <td>nonrobust</td>    <th>                     </th>     <td> </td>   \n",
       "</tr>\n",
       "</table>\n",
       "<table class=\"simpletable\">\n",
       "<tr>\n",
       "     <td></td>       <th>coef</th>     <th>std err</th>      <th>t</th>      <th>P>|t|</th>  <th>[0.025</th>    <th>0.975]</th>  \n",
       "</tr>\n",
       "<tr>\n",
       "  <th>const</th>  <td>  147.4754</td> <td>   15.957</td> <td>    9.242</td> <td> 0.000</td> <td>  116.037</td> <td>  178.914</td>\n",
       "</tr>\n",
       "<tr>\n",
       "  <th>income</th> <td>    0.4852</td> <td>    0.014</td> <td>   33.772</td> <td> 0.000</td> <td>    0.457</td> <td>    0.513</td>\n",
       "</tr>\n",
       "</table>\n",
       "<table class=\"simpletable\">\n",
       "<tr>\n",
       "  <th>Omnibus:</th>       <td>68.110</td> <th>  Durbin-Watson:     </th> <td>   1.411</td> \n",
       "</tr>\n",
       "<tr>\n",
       "  <th>Prob(Omnibus):</th> <td> 0.000</td> <th>  Jarque-Bera (JB):  </th> <td> 927.676</td> \n",
       "</tr>\n",
       "<tr>\n",
       "  <th>Skew:</th>          <td>-0.670</td> <th>  Prob(JB):          </th> <td>3.61e-202</td>\n",
       "</tr>\n",
       "<tr>\n",
       "  <th>Kurtosis:</th>      <td>12.641</td> <th>  Cond. No.          </th> <td>2.38e+03</td> \n",
       "</tr>\n",
       "</table><br/><br/>Notes:<br/>[1] Standard Errors assume that the covariance matrix of the errors is correctly specified.<br/>[2] The condition number is large, 2.38e+03. This might indicate that there are<br/>strong multicollinearity or other numerical problems."
      ],
      "text/plain": [
       "<class 'statsmodels.iolib.summary.Summary'>\n",
       "\"\"\"\n",
       "                            OLS Regression Results                            \n",
       "==============================================================================\n",
       "Dep. Variable:                foodexp   R-squared:                       0.830\n",
       "Model:                            OLS   Adj. R-squared:                  0.830\n",
       "Method:                 Least Squares   F-statistic:                     1141.\n",
       "Date:                Wed, 17 Aug 2022   Prob (F-statistic):           9.92e-92\n",
       "Time:                        14:07:45   Log-Likelihood:                -1445.7\n",
       "No. Observations:                 235   AIC:                             2895.\n",
       "Df Residuals:                     233   BIC:                             2902.\n",
       "Df Model:                           1                                         \n",
       "Covariance Type:            nonrobust                                         \n",
       "==============================================================================\n",
       "                 coef    std err          t      P>|t|      [0.025      0.975]\n",
       "------------------------------------------------------------------------------\n",
       "const        147.4754     15.957      9.242      0.000     116.037     178.914\n",
       "income         0.4852      0.014     33.772      0.000       0.457       0.513\n",
       "==============================================================================\n",
       "Omnibus:                       68.110   Durbin-Watson:                   1.411\n",
       "Prob(Omnibus):                  0.000   Jarque-Bera (JB):              927.676\n",
       "Skew:                          -0.670   Prob(JB):                    3.61e-202\n",
       "Kurtosis:                      12.641   Cond. No.                     2.38e+03\n",
       "==============================================================================\n",
       "\n",
       "Notes:\n",
       "[1] Standard Errors assume that the covariance matrix of the errors is correctly specified.\n",
       "[2] The condition number is large, 2.38e+03. This might indicate that there are\n",
       "strong multicollinearity or other numerical problems.\n",
       "\"\"\""
      ]
     },
     "execution_count": 12,
     "metadata": {},
     "output_type": "execute_result"
    }
   ],
   "source": [
    "results.summary()"
   ]
  },
  {
   "cell_type": "markdown",
   "id": "dcd310e4-7de2-433b-8fbe-e2f7e0ef2b29",
   "metadata": {},
   "source": [
    "Both the intercept and the slope coefficient for the income predictor are statistically significant. In other words, the null hypothesis that the coefficient is zero (and that therefore there is no relationship between the two variables) has been rejected at a significance level  𝛼=0.05 . The model is fitting the data very well, as it can be confirmed by the coefficient of determination  𝑅2=0.83 ."
   ]
  },
  {
   "cell_type": "markdown",
   "id": "7047ca78-ab97-4721-88c6-14920b974839",
   "metadata": {},
   "source": [
    "6. Plot the data using a scatterplot and, on top of it, draw the regression line *(hint: use the estimated intercept ans slope coefficients)*. "
   ]
  },
  {
   "cell_type": "code",
   "execution_count": 13,
   "id": "9792dea0-abe3-4b53-8540-299db9d3f513",
   "metadata": {},
   "outputs": [],
   "source": [
    "results_as_html = results.summary().tables[1].as_html()\n",
    "results_df = pd.read_html(results_as_html, header=0, index_col=0)[0]\n",
    "\n",
    "intercept, slope = results_df['coef'][0], results_df['coef'][1]"
   ]
  },
  {
   "cell_type": "code",
   "execution_count": 14,
   "id": "d99591e5-467d-4afd-bf17-8b70a9ca92b0",
   "metadata": {},
   "outputs": [
    {
     "data": {
      "image/png": "[encoded data removed]",
      "text/plain": [
       "<Figure size 432x288 with 1 Axes>"
      ]
     },
     "metadata": {},
     "output_type": "display_data"
    }
   ],
   "source": [
    "# plot the data points using a scatter plot\n",
    "sns.scatterplot(x='income', y='foodexp', data=df)\n",
    "\n",
    "axes = plt.gca()   # get axes instance of current figure\n",
    "x_vals = np.array(axes.get_xlim())   # get x-axis limits\n",
    "y_vals = intercept + (slope * x_vals)   # define the equation of the regression line\n",
    "plt.plot(x_vals, y_vals, '--', color='r')   # draw the regression line on top of the scatter plot\n",
    "plt.show()"
   ]
  },
  {
   "cell_type": "markdown",
   "id": "f6df162f-fe24-490c-9a80-5f347330d1d1",
   "metadata": {},
   "source": [
    "7. Imagine that you have been teleported in 1857 Belgium and you're a guest of a quite rich family that happens to have an income of about 3000 Belgian francs. How much are they likely to spend on food? Can you give a \"95% confidence range\" for this estimate? "
   ]
  },
  {
   "cell_type": "code",
   "execution_count": 15,
   "id": "cfa59d91-520a-4388-9f4a-09d7114e0562",
   "metadata": {},
   "outputs": [
    {
     "name": "stdout",
     "output_type": "stream",
     "text": [
      "Estimated food expenditure: 1603.011\n"
     ]
    }
   ],
   "source": [
    "pred = results.predict(np.array([1, 3000]))\n",
    "print('Estimated food expenditure:', round(pred[0], 3))"
   ]
  },
  {
   "cell_type": "code",
   "execution_count": 16,
   "id": "fe35b617-c8f7-4aa0-a6a9-2fe05cdab44b",
   "metadata": {},
   "outputs": [
    {
     "name": "stdout",
     "output_type": "stream",
     "text": [
      "Confidence interval for estimate: (1487.037, 1717.914)\n"
     ]
    }
   ],
   "source": [
    "ci_lo = results_df['[0.025']['const'] + results_df['[0.025']['income'] * 3000\n",
    "ci_hi = results_df['0.975]']['const'] + results_df['0.975]']['income'] * 3000\n",
    "print('Confidence interval for estimate:', (ci_lo, ci_hi))"
   ]
  },
  {
   "cell_type": "markdown",
   "id": "e88868bf-b8dc-4f81-9b8e-d02045ddf0f0",
   "metadata": {},
   "source": [
    "8. Plot the new data point and its prediction on top of the original data and regression line."
   ]
  },
  {
   "cell_type": "code",
   "execution_count": 17,
   "id": "211b78e5-ace5-4e9d-a697-9b7934446d85",
   "metadata": {},
   "outputs": [
    {
     "data": {
      "image/png": "[encoded data removed]",
      "text/plain": [
       "<Figure size 432x288 with 1 Axes>"
      ]
     },
     "metadata": {},
     "output_type": "display_data"
    }
   ],
   "source": [
    "# plot the data points using a scatter plot\n",
    "sns.scatterplot(x='income', y='foodexp', data=df)\n",
    "\n",
    "axes = plt.gca()   # get axes instance of current figure\n",
    "x_vals = np.array(axes.get_xlim())   # get x-axis limits\n",
    "y_vals = intercept + (slope * x_vals)   # define the equation of the regression line\n",
    "plt.plot(x_vals, y_vals, '--', color='m')   # draw the regression line on top of the scatter plot\n",
    "\n",
    "# plot the new observed x-value and the relative prediction\n",
    "plt.plot(3000, pred[0], 'ro')\n",
    "plt.plot((3000, 3000), (ci_lo, ci_hi), 'r') # plotting the confidence interval\n",
    "\n",
    "plt.show()"
   ]
  },
  {
   "cell_type": "markdown",
   "id": "b4a24932-6435-429b-942c-d94448ef998b",
   "metadata": {},
   "source": [
    "### Advanced Exercise\n",
    "\n",
    "1. See if you can define a [linear regression](https://scikit-learn.org/stable/modules/linear_model.html#ordinary-least-squares) model with the same caracteristics as the one in the \"Standard Exercise\" section using the `LinearRegression` [module](https://scikit-learn.org/stable/modules/generated/sklearn.linear_model.LinearRegression.html#sklearn.linear_model.LinearRegression) from the `sklearn` library. Print the estimated intercept and slope coefficients of the regression model."
   ]
  },
  {
   "cell_type": "code",
   "execution_count": 18,
   "id": "a9ceafd1-039b-4027-8295-da21844c7cac",
   "metadata": {},
   "outputs": [],
   "source": [
    "from sklearn.linear_model import LinearRegression\n",
    "reg = LinearRegression().fit(df.income.values.reshape(-1,1), df.foodexp)"
   ]
  },
  {
   "cell_type": "code",
   "execution_count": 19,
   "id": "db21ee5c-167f-4efb-83cb-e9d614c51943",
   "metadata": {},
   "outputs": [
    {
     "data": {
      "text/plain": [
       "(147.47538852370565, array([0.48517842]))"
      ]
     },
     "execution_count": 19,
     "metadata": {},
     "output_type": "execute_result"
    }
   ],
   "source": [
    "reg.intercept_, reg.coef_"
   ]
  },
  {
   "cell_type": "markdown",
   "id": "de3daf50-9e3c-4704-b1f0-3f60da1f328a",
   "metadata": {},
   "source": [
    "2. **[very challenging]** Given the `lin_reg_coef()` function we defined from scratch in class, create a permutation test for the estimates of the slope coefficient of a regression analysis using the `penguins` dataset, where `flipper_length_mm` is the predictor and `body_mass_g` is the target variable. Would you accept or reject the null hypothesis that there is no relation between $X$ and $Y$? *(Hint: check out [this video](https://www.youtube.com/watch?v=2V1mxDATRn0) for some cues)*"
   ]
  },
  {
   "cell_type": "code",
   "execution_count": 20,
   "id": "b2c5d1ae-d7e9-4a55-b751-80e5fc9ec59b",
   "metadata": {},
   "outputs": [],
   "source": [
    "# run this cell (do not delete it)\n",
    "\n",
    "df = sns.load_dataset('penguins')\n",
    "df = df[~pd.isna(df.flipper_length_mm)]\n",
    "\n",
    "def lin_reg_coef(x, y): \n",
    "    \n",
    "    # calculate the means of the X and Y variables\n",
    "    X_mean = np.mean(x)\n",
    "    Y_mean = np.mean(y)\n",
    "    \n",
    "    # calculate the deviations from the mean of each data point (for X and Y)\n",
    "    X_mean_dev = [el-X_mean for el in x]\n",
    "    Y_mean_dev = [el-Y_mean for el in y]\n",
    "    \n",
    "    # calculate the covariance between X and Y and the variance of X\n",
    "    XY_covar = np.sum(np.array(X_mean_dev) * np.array(Y_mean_dev))\n",
    "    X_var = np.sum(np.array(X_mean_dev)**2)\n",
    "    \n",
    "    # calculate the slope (b_1) and intercept (b_0) coefficients\n",
    "    b_1 = XY_covar/X_var\n",
    "    b_0 = Y_mean - b_1*X_mean\n",
    "    \n",
    "    return b_0, b_1        "
   ]
  },
  {
   "cell_type": "code",
   "execution_count": 21,
   "id": "90576c7b-0cb9-4c87-9c45-d6f20628f345",
   "metadata": {},
   "outputs": [
    {
     "data": {
      "text/plain": [
       "(-5780.831358077065, 49.685566406100094)"
      ]
     },
     "execution_count": 21,
     "metadata": {},
     "output_type": "execute_result"
    }
   ],
   "source": [
    "# run this cell (do not delete it)\n",
    "\n",
    "intercept, slope = lin_reg_coef(x=df['flipper_length_mm'], y=df['body_mass_g'])\n",
    "intercept, slope"
   ]
  },
  {
   "cell_type": "code",
   "execution_count": 22,
   "id": "d1f3f467-67c3-4088-a16a-98932736a2e9",
   "metadata": {},
   "outputs": [
    {
     "data": {
      "image/png": "[encoded data removed]",
      "text/plain": [
       "<Figure size 432x288 with 1 Axes>"
      ]
     },
     "metadata": {},
     "output_type": "display_data"
    }
   ],
   "source": [
    "# run this cell (do not delete it)\n",
    "\n",
    "sns.scatterplot(x='flipper_length_mm', y='body_mass_g', data=df)\n",
    "\n",
    "axes = plt.gca()\n",
    "x_vals = np.array(axes.get_xlim())\n",
    "y_vals = intercept + slope * x_vals\n",
    "plt.plot(x_vals, y_vals, '--', color='r')\n",
    "\n",
    "plt.show()"
   ]
  },
  {
   "cell_type": "code",
   "execution_count": 23,
   "id": "4182bdc6-4865-4693-abb0-5dbed71d5805",
   "metadata": {},
   "outputs": [],
   "source": [
    "n = 500\n",
    "mu_intercepts = []\n",
    "mu_slopes = []\n",
    "for i in range(n): \n",
    "    # extract a subsample of 50% of data without replacement\n",
    "    x_swapped = np.random.permutation(df['flipper_length_mm'].values)\n",
    "    # use set() to get indexes of rows that were not extracted from df in previous step\n",
    "    #ix2 = set(df.index) - set(df_sample1.index)\n",
    "    # create dataframe with other 50% of data\n",
    "    #df_sample2 = df.loc[list(ix2)]\n",
    "    # calculate difference in mean from each sample\n",
    "    sim_intercept, sim_slope = lin_reg_coef(x=x_swapped, y=df['body_mass_g'])\n",
    "    # append sampled mean difference to mu_diff_samples list\n",
    "    mu_intercepts.append(sim_intercept)\n",
    "    mu_slopes.append(sim_slope)"
   ]
  },
  {
   "cell_type": "code",
   "execution_count": 24,
   "id": "96320a9e-35cd-4984-877e-1f6598f86366",
   "metadata": {},
   "outputs": [
    {
     "data": {
      "image/png": "[encoded data removed]",
      "text/plain": [
       "<Figure size 432x288 with 1 Axes>"
      ]
     },
     "metadata": {},
     "output_type": "display_data"
    },
    {
     "name": "stdout",
     "output_type": "stream",
     "text": [
      "Avgerage Simulated Test Statistic: 0.0311\n",
      "Initially Observed Test Statistic: 49.6856\n"
     ]
    }
   ],
   "source": [
    "sns.histplot(mu_slopes)\n",
    "plt.axvline(slope, 0, 1, color='r', linestyle='--')\n",
    "plt.show()\n",
    "print('Avgerage Simulated Test Statistic:', f'{np.mean(mu_slopes):.4f}')\n",
    "print('Initially Observed Test Statistic:', f'{slope:.4f}')"
   ]
  },
  {
   "cell_type": "markdown",
   "id": "bd5676e2-a47e-4e15-bc20-d7551e5fa455",
   "metadata": {},
   "source": [
    "We obviously reject the null hypothesis that there is no relationship between the two variables. "
   ]
  }
 ],
 "metadata": {
  "kernelspec": {
   "display_name": "Python 3 (ipykernel)",
   "language": "python",
   "name": "python3"
  },
  "language_info": {
   "codemirror_mode": {
    "name": "ipython",
    "version": 3
   },
   "file_extension": ".py",
   "mimetype": "text/x-python",
   "name": "python",
   "nbconvert_exporter": "python",
   "pygments_lexer": "ipython3",
   "version": "3.9.12"
  }
 },
 "nbformat": 4,
 "nbformat_minor": 5
}
